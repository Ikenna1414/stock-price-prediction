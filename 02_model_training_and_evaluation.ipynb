{
 "cells": [
  {
   "cell_type": "code",
   "execution_count": 58,
   "id": "b699af8c",
   "metadata": {},
   "outputs": [
    {
     "name": "stdout",
     "output_type": "stream",
     "text": [
      "Defaulting to user installation because normal site-packages is not writeable\n",
      "Collecting lightgbm\n",
      "  Downloading lightgbm-4.6.0-py3-none-win_amd64.whl (1.5 MB)\n",
      "     ---------------------------------------- 1.5/1.5 MB 4.2 MB/s eta 0:00:00\n",
      "Requirement already satisfied: numpy>=1.17.0 in c:\\programdata\\anaconda3\\lib\\site-packages (from lightgbm) (1.21.5)\n",
      "Requirement already satisfied: scipy in c:\\programdata\\anaconda3\\lib\\site-packages (from lightgbm) (1.9.1)\n",
      "Installing collected packages: lightgbm\n",
      "Successfully installed lightgbm-4.6.0\n",
      "Note: you may need to restart the kernel to use updated packages.\n"
     ]
    }
   ],
   "source": [
    "pip install lightgbm"
   ]
  },
  {
   "cell_type": "code",
   "execution_count": 62,
   "id": "c3b265d1",
   "metadata": {},
   "outputs": [],
   "source": [
    "import pandas as pd\n",
    "from sklearn.model_selection import train_test_split\n",
    "from sklearn.linear_model import LogisticRegression\n",
    "import seaborn as sns\n",
    "import matplotlib.pyplot as plt\n",
    "from sklearn.metrics import confusion_matrix\n",
    "from sklearn.ensemble import RandomForestClassifier\n",
    "from sklearn.metrics import accuracy_score, classification_report\n",
    "from lightgbm import LGBMClassifier\n",
    "\n",
    "import seaborn as sns\n",
    "\n"
   ]
  },
  {
   "cell_type": "code",
   "execution_count": 28,
   "id": "b1be7a2f",
   "metadata": {},
   "outputs": [],
   "source": [
    "# Load features and labels with datetime index\n",
    "X = pd.read_csv('../data/features_X.csv', index_col=0, parse_dates=True)\n"
   ]
  },
  {
   "cell_type": "code",
   "execution_count": 41,
   "id": "ce8ab9d1",
   "metadata": {},
   "outputs": [],
   "source": [
    "y = pd.read_csv('../data/labels_y.csv', index_col=0, parse_dates=True)\n",
    "y = y.iloc[:, 0]  # grab the first (and only) column\n"
   ]
  },
  {
   "cell_type": "code",
   "execution_count": 29,
   "id": "7f7c17fd",
   "metadata": {},
   "outputs": [
    {
     "data": {
      "text/html": [
       "<div>\n",
       "<style scoped>\n",
       "    .dataframe tbody tr th:only-of-type {\n",
       "        vertical-align: middle;\n",
       "    }\n",
       "\n",
       "    .dataframe tbody tr th {\n",
       "        vertical-align: top;\n",
       "    }\n",
       "\n",
       "    .dataframe thead th {\n",
       "        text-align: right;\n",
       "    }\n",
       "</style>\n",
       "<table border=\"1\" class=\"dataframe\">\n",
       "  <thead>\n",
       "    <tr style=\"text-align: right;\">\n",
       "      <th></th>\n",
       "      <th>SMA20</th>\n",
       "      <th>SMA50</th>\n",
       "      <th>RSI</th>\n",
       "      <th>MACD</th>\n",
       "      <th>MACD_Signal</th>\n",
       "    </tr>\n",
       "    <tr>\n",
       "      <th>Price</th>\n",
       "      <th></th>\n",
       "      <th></th>\n",
       "      <th></th>\n",
       "      <th></th>\n",
       "      <th></th>\n",
       "    </tr>\n",
       "  </thead>\n",
       "  <tbody>\n",
       "    <tr>\n",
       "      <th>Ticker</th>\n",
       "      <td>NaN</td>\n",
       "      <td>NaN</td>\n",
       "      <td>NaN</td>\n",
       "      <td>NaN</td>\n",
       "      <td>NaN</td>\n",
       "    </tr>\n",
       "    <tr>\n",
       "      <th>Date</th>\n",
       "      <td>NaN</td>\n",
       "      <td>NaN</td>\n",
       "      <td>NaN</td>\n",
       "      <td>NaN</td>\n",
       "      <td>NaN</td>\n",
       "    </tr>\n",
       "    <tr>\n",
       "      <th>2020-03-13</th>\n",
       "      <td>70.923007</td>\n",
       "      <td>74.025908</td>\n",
       "      <td>45.241583</td>\n",
       "      <td>-2.653158</td>\n",
       "      <td>-2.030566</td>\n",
       "    </tr>\n",
       "    <tr>\n",
       "      <th>2020-03-16</th>\n",
       "      <td>69.920359</td>\n",
       "      <td>73.747537</td>\n",
       "      <td>36.847040</td>\n",
       "      <td>-3.215642</td>\n",
       "      <td>-2.267581</td>\n",
       "    </tr>\n",
       "    <tr>\n",
       "      <th>2020-03-17</th>\n",
       "      <td>69.118871</td>\n",
       "      <td>73.534910</td>\n",
       "      <td>40.394245</td>\n",
       "      <td>-3.413785</td>\n",
       "      <td>-2.496822</td>\n",
       "    </tr>\n",
       "  </tbody>\n",
       "</table>\n",
       "</div>"
      ],
      "text/plain": [
       "                SMA20      SMA50        RSI      MACD  MACD_Signal\n",
       "Price                                                             \n",
       "Ticker            NaN        NaN        NaN       NaN          NaN\n",
       "Date              NaN        NaN        NaN       NaN          NaN\n",
       "2020-03-13  70.923007  74.025908  45.241583 -2.653158    -2.030566\n",
       "2020-03-16  69.920359  73.747537  36.847040 -3.215642    -2.267581\n",
       "2020-03-17  69.118871  73.534910  40.394245 -3.413785    -2.496822"
      ]
     },
     "execution_count": 29,
     "metadata": {},
     "output_type": "execute_result"
    }
   ],
   "source": [
    "X.head()"
   ]
  },
  {
   "cell_type": "code",
   "execution_count": 30,
   "id": "080f6216",
   "metadata": {},
   "outputs": [
    {
     "data": {
      "text/html": [
       "<div>\n",
       "<style scoped>\n",
       "    .dataframe tbody tr th:only-of-type {\n",
       "        vertical-align: middle;\n",
       "    }\n",
       "\n",
       "    .dataframe tbody tr th {\n",
       "        vertical-align: top;\n",
       "    }\n",
       "\n",
       "    .dataframe thead th {\n",
       "        text-align: right;\n",
       "    }\n",
       "</style>\n",
       "<table border=\"1\" class=\"dataframe\">\n",
       "  <thead>\n",
       "    <tr style=\"text-align: right;\">\n",
       "      <th></th>\n",
       "      <th>SMA20</th>\n",
       "      <th>SMA50</th>\n",
       "      <th>RSI</th>\n",
       "      <th>MACD</th>\n",
       "      <th>MACD_Signal</th>\n",
       "    </tr>\n",
       "    <tr>\n",
       "      <th>Price</th>\n",
       "      <th></th>\n",
       "      <th></th>\n",
       "      <th></th>\n",
       "      <th></th>\n",
       "      <th></th>\n",
       "    </tr>\n",
       "  </thead>\n",
       "  <tbody>\n",
       "    <tr>\n",
       "      <th>2020-03-13</th>\n",
       "      <td>70.923007</td>\n",
       "      <td>74.025908</td>\n",
       "      <td>45.241583</td>\n",
       "      <td>-2.653158</td>\n",
       "      <td>-2.030566</td>\n",
       "    </tr>\n",
       "    <tr>\n",
       "      <th>2020-03-16</th>\n",
       "      <td>69.920359</td>\n",
       "      <td>73.747537</td>\n",
       "      <td>36.847040</td>\n",
       "      <td>-3.215642</td>\n",
       "      <td>-2.267581</td>\n",
       "    </tr>\n",
       "    <tr>\n",
       "      <th>2020-03-17</th>\n",
       "      <td>69.118871</td>\n",
       "      <td>73.534910</td>\n",
       "      <td>40.394245</td>\n",
       "      <td>-3.413785</td>\n",
       "      <td>-2.496822</td>\n",
       "    </tr>\n",
       "    <tr>\n",
       "      <th>2020-03-18</th>\n",
       "      <td>68.186387</td>\n",
       "      <td>73.280818</td>\n",
       "      <td>39.022312</td>\n",
       "      <td>-3.649798</td>\n",
       "      <td>-2.727417</td>\n",
       "    </tr>\n",
       "    <tr>\n",
       "      <th>2020-03-19</th>\n",
       "      <td>67.271232</td>\n",
       "      <td>73.024383</td>\n",
       "      <td>38.591331</td>\n",
       "      <td>-3.829657</td>\n",
       "      <td>-2.947865</td>\n",
       "    </tr>\n",
       "  </tbody>\n",
       "</table>\n",
       "</div>"
      ],
      "text/plain": [
       "                SMA20      SMA50        RSI      MACD  MACD_Signal\n",
       "Price                                                             \n",
       "2020-03-13  70.923007  74.025908  45.241583 -2.653158    -2.030566\n",
       "2020-03-16  69.920359  73.747537  36.847040 -3.215642    -2.267581\n",
       "2020-03-17  69.118871  73.534910  40.394245 -3.413785    -2.496822\n",
       "2020-03-18  68.186387  73.280818  39.022312 -3.649798    -2.727417\n",
       "2020-03-19  67.271232  73.024383  38.591331 -3.829657    -2.947865"
      ]
     },
     "execution_count": 30,
     "metadata": {},
     "output_type": "execute_result"
    }
   ],
   "source": [
    "X=X.dropna()\n",
    "X.head()"
   ]
  },
  {
   "cell_type": "code",
   "execution_count": 42,
   "id": "8e671c72",
   "metadata": {},
   "outputs": [
    {
     "data": {
      "text/plain": [
       "Date\n",
       "2020-03-13    0\n",
       "2020-03-16    1\n",
       "2020-03-17    0\n",
       "2020-03-18    0\n",
       "2020-03-19    0\n",
       "Name: Target, dtype: int64"
      ]
     },
     "execution_count": 42,
     "metadata": {},
     "output_type": "execute_result"
    }
   ],
   "source": [
    "y.head()"
   ]
  },
  {
   "cell_type": "code",
   "execution_count": 43,
   "id": "b18ead9a",
   "metadata": {},
   "outputs": [
    {
     "name": "stdout",
     "output_type": "stream",
     "text": [
      "Train size: 965\n",
      "Test size: 242\n"
     ]
    }
   ],
   "source": [
    "\n",
    "# Time-based split (no shuffle)\n",
    "split_index = int(len(X) * 0.8)\n",
    "X_train = X.iloc[:split_index]\n",
    "X_test = X.iloc[split_index:]\n",
    "y_train = y.iloc[:split_index]\n",
    "y_test = y.iloc[split_index:]\n",
    "\n",
    "print(f\"Train size: {len(X_train)}\")\n",
    "print(f\"Test size: {len(X_test)}\")\n"
   ]
  },
  {
   "cell_type": "code",
   "execution_count": 44,
   "id": "f37b45d4",
   "metadata": {},
   "outputs": [
    {
     "data": {
      "text/plain": [
       "LogisticRegression(max_iter=1000)"
      ]
     },
     "execution_count": 44,
     "metadata": {},
     "output_type": "execute_result"
    }
   ],
   "source": [
    "# Initialize and train model\n",
    "model = LogisticRegression(max_iter=1000)\n",
    "model.fit(X_train, y_train)"
   ]
  },
  {
   "cell_type": "code",
   "execution_count": 48,
   "id": "c0b66ac4",
   "metadata": {},
   "outputs": [
    {
     "data": {
      "image/png": "[encoded data removed]",
      "text/plain": [
       "<Figure size 600x400 with 2 Axes>"
      ]
     },
     "metadata": {},
     "output_type": "display_data"
    }
   ],
   "source": [
    "\n",
    "y_pred_lr = model.predict(X_test)\n",
    "\n",
    "# Confusion matrix\n",
    "conf_mat = confusion_matrix(y_test, y_pred_lr)\n",
    "\n",
    "# Plot\n",
    "plt.figure(figsize=(6, 4))\n",
    "sns.heatmap(conf_mat, annot=True, fmt='d', cmap='Blues', xticklabels=['Down', 'Up'], yticklabels=['Down', 'Up'])\n",
    "plt.xlabel('Predicted')\n",
    "plt.ylabel('Actual')\n",
    "plt.title('Confusion Matrix - Logistic Regression')\n",
    "plt.show()"
   ]
  },
  {
   "cell_type": "code",
   "execution_count": 54,
   "id": "0a3c3b5c",
   "metadata": {},
   "outputs": [
    {
     "name": "stdout",
     "output_type": "stream",
     "text": [
      "Random Forest Accuracy: 0.4214876033057851\n",
      "Classification Report:\n",
      "               precision    recall  f1-score   support\n",
      "\n",
      "           0       0.40      0.75      0.52       103\n",
      "           1       0.49      0.18      0.26       139\n",
      "\n",
      "    accuracy                           0.42       242\n",
      "   macro avg       0.45      0.46      0.39       242\n",
      "weighted avg       0.45      0.42      0.37       242\n",
      "\n"
     ]
    }
   ],
   "source": [
    "\n",
    "# Initialize and train\n",
    "rf_model = RandomForestClassifier(n_estimators=100, random_state=42)\n",
    "rf_model.fit(X_train, y_train)\n",
    "\n",
    "# Predict\n",
    "y_pred_rf = rf_model.predict(X_test)\n",
    "\n",
    "# Evaluation\n",
    "print(\"Random Forest Accuracy:\", accuracy_score(y_test, y_pred_rf))\n",
    "print(\"Classification Report:\\n\", classification_report(y_test, y_pred_rf))\n"
   ]
  },
  {
   "cell_type": "code",
   "execution_count": 55,
   "id": "583a3017",
   "metadata": {},
   "outputs": [
    {
     "data": {
      "image/png": "[encoded data removed]",
      "text/plain": [
       "<Figure size 1000x500 with 1 Axes>"
      ]
     },
     "metadata": {},
     "output_type": "display_data"
    }
   ],
   "source": [
    "import matplotlib.pyplot as plt\n",
    "\n",
    "importances = rf_model.feature_importances_\n",
    "feature_names = X.columns\n",
    "\n",
    "# Plot\n",
    "plt.figure(figsize=(10, 5))\n",
    "plt.barh(feature_names, importances)\n",
    "plt.title(\"Feature Importances - Random Forest\")\n",
    "plt.xlabel(\"Importance\")\n",
    "plt.ylabel(\"Feature\")\n",
    "plt.grid(True)\n",
    "plt.tight_layout()\n",
    "plt.show()\n"
   ]
  },
  {
   "cell_type": "code",
   "execution_count": 52,
   "id": "176d202a",
   "metadata": {},
   "outputs": [
    {
     "name": "stdout",
     "output_type": "stream",
     "text": [
      "Cross-Validation Scores: [0.5124 0.5622 0.5323 0.4925 0.393 ]\n",
      "Average CV Accuracy: 0.4985\n"
     ]
    }
   ],
   "source": [
    "from sklearn.model_selection import TimeSeriesSplit\n",
    "from sklearn.metrics import accuracy_score\n",
    "import numpy as np\n",
    "\n",
    "tscv = TimeSeriesSplit(n_splits=5)\n",
    "model = RandomForestClassifier(n_estimators=100, random_state=42)\n",
    "\n",
    "scores = []\n",
    "\n",
    "for train_idx, val_idx in tscv.split(X):\n",
    "    X_train_fold, X_val_fold = X.iloc[train_idx], X.iloc[val_idx]\n",
    "    y_train_fold, y_val_fold = y.iloc[train_idx], y.iloc[val_idx]\n",
    "    \n",
    "    model.fit(X_train_fold, y_train_fold.values.ravel())\n",
    "    preds = model.predict(X_val_fold)\n",
    "    acc = accuracy_score(y_val_fold, preds)\n",
    "    scores.append(acc)\n",
    "\n",
    "print(\"Cross-Validation Scores:\", np.round(scores, 4))\n",
    "print(\"Average CV Accuracy:\", np.mean(scores).round(4))\n"
   ]
  },
  {
   "cell_type": "code",
   "execution_count": 56,
   "id": "039072ea",
   "metadata": {},
   "outputs": [
    {
     "name": "stdout",
     "output_type": "stream",
     "text": [
      "XGBoost Accuracy: 0.45454545454545453\n",
      "Classification Report:\n",
      "               precision    recall  f1-score   support\n",
      "\n",
      "           0       0.42      0.71      0.53       103\n",
      "           1       0.55      0.27      0.36       139\n",
      "\n",
      "    accuracy                           0.45       242\n",
      "   macro avg       0.48      0.49      0.44       242\n",
      "weighted avg       0.49      0.45      0.43       242\n",
      "\n"
     ]
    }
   ],
   "source": [
    "from xgboost import XGBClassifier\n",
    "\n",
    "xgb = XGBClassifier(n_estimators=100, learning_rate=0.1, max_depth=4, random_state=42)\n",
    "xgb.fit(X_train, y_train)\n",
    "\n",
    "y_pred_xgb = xgb.predict(X_test)\n",
    "print(\"XGBoost Accuracy:\", accuracy_score(y_test, y_pred_xgb))\n",
    "print(\"Classification Report:\\n\", classification_report(y_test, y_pred_xgb))\n"
   ]
  },
  {
   "cell_type": "code",
   "execution_count": 60,
   "id": "3fac4e1b",
   "metadata": {},
   "outputs": [
    {
     "name": "stdout",
     "output_type": "stream",
     "text": [
      "[LightGBM] [Info] Number of positive: 508, number of negative: 457\n",
      "[LightGBM] [Info] Auto-choosing col-wise multi-threading, the overhead of testing was 0.000283 seconds.\n",
      "You can set `force_col_wise=true` to remove the overhead.\n",
      "[LightGBM] [Info] Total Bins 1275\n",
      "[LightGBM] [Info] Number of data points in the train set: 965, number of used features: 5\n",
      "[LightGBM] [Info] [binary:BoostFromScore]: pavg=0.526425 -> initscore=0.105798\n",
      "[LightGBM] [Info] Start training from score 0.105798\n"
     ]
    },
    {
     "data": {
      "text/plain": [
       "LGBMClassifier(random_state=42)"
      ]
     },
     "execution_count": 60,
     "metadata": {},
     "output_type": "execute_result"
    }
   ],
   "source": [
    "\n",
    "model = LGBMClassifier(n_estimators=100, random_state=42)\n",
    "model.fit(X_train, y_train)\n"
   ]
  },
  {
   "cell_type": "code",
   "execution_count": null,
   "id": "d9fe01c8",
   "metadata": {},
   "outputs": [
    {
     "name": "stdout",
     "output_type": "stream",
     "text": [
      "LightGBM Accuracy: 0.44214876033057854\n",
      "Classification Report:\n",
      "               precision    recall  f1-score   support\n",
      "\n",
      "           0       0.42      0.82      0.55       103\n",
      "           1       0.55      0.17      0.25       139\n",
      "\n",
      "    accuracy                           0.44       242\n",
      "   macro avg       0.48      0.49      0.40       242\n",
      "weighted avg       0.49      0.44      0.38       242\n",
      "\n"
     ]
    },
    {
     "data": {
      "image/png": "[encoded data removed]",
      "text/plain": [
       "<Figure size 600x400 with 2 Axes>"
      ]
     },
     "metadata": {},
     "output_type": "display_data"
    }
   ],
   "source": [
    "\n",
    "\n",
    "# Predict\n",
    "y_pred_lgbm = model.predict(X_test)\n",
    "\n",
    "# Accuracy\n",
    "print(\"LightGBM Accuracy:\", accuracy_score(y_test, y_pred_lgbm))\n",
    "\n",
    "# Classification report\n",
    "print(\"Classification Report:\\n\", classification_report(y_test, y_pred_lgbm))\n",
    "\n",
    "\n",
    "\n",
    "conf_mat = confusion_matrix(y_test, y_pred_lgbm)\n",
    "plt.figure(figsize=(6, 4))\n",
    "sns.heatmap(conf_mat, annot=True, fmt='d', cmap='Greens', xticklabels=['Down', 'Up'], yticklabels=['Down', 'Up'])\n",
    "plt.xlabel('Predicted')\n",
    "plt.ylabel('Actual')\n",
    "plt.title('LightGBM - Confusion Matrix')\n",
    "plt.show()\n"
   ]
  },
  {
   "cell_type": "code",
   "execution_count": 68,
   "id": "34a1aef2",
   "metadata": {},
   "outputs": [
    {
     "name": "stdout",
     "output_type": "stream",
     "text": [
      "              precision    recall  f1-score   support\n",
      "\n",
      "           0       0.42      0.82      0.55       103\n",
      "           1       0.55      0.17      0.25       139\n",
      "\n",
      "    accuracy                           0.44       242\n",
      "   macro avg       0.48      0.49      0.40       242\n",
      "weighted avg       0.49      0.44      0.38       242\n",
      "\n",
      "[[ 84  19]\n",
      " [116  23]]\n"
     ]
    }
   ],
   "source": [
    "y_probs = model.predict_proba(X_test)[:, 1]  # probability of class 'Up'\n",
    "\n",
    "# Change threshold from 0.5 to something like 0.4\n",
    "y_pred_custom = (y_probs > 0.5).astype(int)\n",
    "\n",
    "# Re-evaluate\n",
    "from sklearn.metrics import classification_report, confusion_matrix\n",
    "print(classification_report(y_test, y_pred_custom))\n",
    "print(confusion_matrix(y_test, y_pred_custom))\n"
   ]
  },
  {
   "cell_type": "markdown",
   "id": "e6aa6b3c",
   "metadata": {},
   "source": []
  }
 ],
 "metadata": {
  "kernelspec": {
   "display_name": "base",
   "language": "python",
   "name": "python3"
  },
  "language_info": {
   "codemirror_mode": {
    "name": "ipython",
    "version": 3
   },
   "file_extension": ".py",
   "mimetype": "text/x-python",
   "name": "python",
   "nbconvert_exporter": "python",
   "pygments_lexer": "ipython3",
   "version": "3.9.13"
  }
 },
 "nbformat": 4,
 "nbformat_minor": 5
}
